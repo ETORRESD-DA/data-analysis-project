{
 "cells": [
  {
   "cell_type": "code",
   "execution_count": 490,
   "metadata": {},
   "outputs": [],
   "source": [
    "#Libraries import\n",
    "import csv\n",
    "from datetime import datetime\n",
    "import requests\n",
    "import pandas as pd\n",
    "import matplotlib as plt\n",
    "import matplotlib.pyplot as plt\n",
    "from tkinter import *\n",
    "from tkinter import font"
   ]
  },
  {
   "cell_type": "code",
   "execution_count": 491,
   "metadata": {},
   "outputs": [],
   "source": [
    "# Carga Archivo\n",
    "df_covid = pd.read_csv('tmp/covid19_tweets.csv',encoding=\"utf-8\")"
   ]
  },
  {
   "cell_type": "code",
   "execution_count": 492,
   "metadata": {},
   "outputs": [],
   "source": [
    "#Limpiar data frame\n",
    "\n",
    "#Convertimos locacion a string\n",
    "casting_dict = {\n",
    "    \"user_location\":'str'\n",
    "}\n",
    "\n",
    "df_covid_casted=df_covid.astype(casting_dict)\n",
    "\n",
    "#quitar #\n",
    "df_covid_casted['user_location']=df_covid_casted['user_location'].str.replace('#', '')\n",
    "#quitar \"\"\n",
    "df_covid_casted['user_location'] = df_covid_casted['user_location'].str.strip()\n",
    "#decodificamos los emojis y caracteres especiales\n",
    "df_covid_casted['user_location'] = df_covid_casted['user_location'].map(lambda x: x.encode('unicode-escape').decode('utf-8'))\n",
    "#title\n",
    "df_covid_casted['user_location'] = df_covid_casted['user_location'].str.title()"
   ]
  },
  {
   "cell_type": "code",
   "execution_count": 493,
   "metadata": {},
   "outputs": [],
   "source": [
    "#Filtrar Data Frame\n",
    "df_covid_filter=df_covid_casted[\"user_location\"] != \"Nan\" "
   ]
  },
  {
   "cell_type": "code",
   "execution_count": 494,
   "metadata": {},
   "outputs": [],
   "source": [
    "#filtro mi data frame casteado con el filtro antes generado\n",
    "df_covid_casted=df_covid_casted[df_covid_filter]"
   ]
  },
  {
   "cell_type": "code",
   "execution_count": 495,
   "metadata": {},
   "outputs": [],
   "source": [
    "#Funcion agrupa data frame \n",
    "def agrupa_ubicación_geografica():\n",
    "    df_agrupado=df_covid_casted.groupby(['user_location']).size().reset_index(name=\"count\")\n",
    "    return df_agrupado"
   ]
  },
  {
   "cell_type": "code",
   "execution_count": 496,
   "metadata": {},
   "outputs": [],
   "source": [
    "#Funcion ordena data frame\n",
    "def ordena_ubicación_geografica(df_agrupado):\n",
    "    df_ordenado=df_agrupado.sort_values(['count'],ascending=[False])\n",
    "    #df_ordenado=df_ordenado.iloc[0:250,]\n",
    "    #print(df_ordenado.iloc[237,])\n",
    "    return df_ordenado"
   ]
  },
  {
   "cell_type": "code",
   "execution_count": 497,
   "metadata": {},
   "outputs": [],
   "source": [
    "#Funcion filtra los mas reLevantes\n",
    "def filtra_relevantes(df_ordenado):\n",
    "    df_ordenado_filter=df_ordenado[\"count\"] > 1000 \n",
    "    df_ordenado_filter=df_ordenado[df_ordenado_filter]\n",
    "    return df_ordenado_filter"
   ]
  },
  {
   "cell_type": "code",
   "execution_count": 498,
   "metadata": {},
   "outputs": [],
   "source": [
    "#funcion grafica data frame\n",
    "def grafica_ubicación_geografica(df_ordenado):\n",
    "    #Convertimos locacion a string\n",
    "    casting_dict = {\n",
    "    \"user_location\":'str'\n",
    "    }\n",
    "    df_ordenado=df_ordenado.astype(casting_dict)\n",
    "    df_ordenado.plot(kind='bar',x='user_location',y='count')\n",
    "    return plt.show()"
   ]
  },
  {
   "cell_type": "code",
   "execution_count": 499,
   "metadata": {},
   "outputs": [
    {
     "data": {
      "image/png": "[encoded data removed]",
      "text/plain": [
       "<Figure size 432x288 with 1 Axes>"
      ]
     },
     "metadata": {
      "needs_background": "light"
     },
     "output_type": "display_data"
    },
    {
     "name": "stdout",
     "output_type": "stream",
     "text": [
      "          user_location  count\n",
      "9314              India   3658\n",
      "21275     United States   2274\n",
      "14016  New Delhi, India   1648\n",
      "22989         Worldwide   1587\n",
      "13474     Mumbai, India   1301\n",
      "22152    Washington, Dc   1290\n",
      "11695   London, England   1219\n",
      "21247    United Kingdom   1178\n",
      "11539            London   1119\n",
      "14198      New York, Ny   1007\n"
     ]
    }
   ],
   "source": [
    "df_agrupado= agrupa_ubicación_geografica()\n",
    "df_ordenado= ordena_ubicación_geografica(df_agrupado)\n",
    "df_ordenado_filtrado=filtra_relevantes(df_ordenado)\n",
    "grafica_ubicación_geografica(df_ordenado_filtrado)\n",
    "print(df_ordenado_filtrado)"
   ]
  },
  {
   "cell_type": "code",
   "execution_count": 500,
   "metadata": {},
   "outputs": [
    {
     "data": {
      "text/html": [
       "<div>\n",
       "<style scoped>\n",
       "    .dataframe tbody tr th:only-of-type {\n",
       "        vertical-align: middle;\n",
       "    }\n",
       "\n",
       "    .dataframe tbody tr th {\n",
       "        vertical-align: top;\n",
       "    }\n",
       "\n",
       "    .dataframe thead th {\n",
       "        text-align: right;\n",
       "    }\n",
       "</style>\n",
       "<table border=\"1\" class=\"dataframe\">\n",
       "  <thead>\n",
       "    <tr style=\"text-align: right;\">\n",
       "      <th></th>\n",
       "      <th>user_location</th>\n",
       "      <th>count</th>\n",
       "    </tr>\n",
       "  </thead>\n",
       "  <tbody>\n",
       "    <tr>\n",
       "      <th>9314</th>\n",
       "      <td>India</td>\n",
       "      <td>3658</td>\n",
       "    </tr>\n",
       "    <tr>\n",
       "      <th>21275</th>\n",
       "      <td>United States</td>\n",
       "      <td>2274</td>\n",
       "    </tr>\n",
       "    <tr>\n",
       "      <th>14016</th>\n",
       "      <td>New Delhi, India</td>\n",
       "      <td>1648</td>\n",
       "    </tr>\n",
       "    <tr>\n",
       "      <th>22989</th>\n",
       "      <td>Worldwide</td>\n",
       "      <td>1587</td>\n",
       "    </tr>\n",
       "    <tr>\n",
       "      <th>13474</th>\n",
       "      <td>Mumbai, India</td>\n",
       "      <td>1301</td>\n",
       "    </tr>\n",
       "    <tr>\n",
       "      <th>...</th>\n",
       "      <td>...</td>\n",
       "      <td>...</td>\n",
       "    </tr>\n",
       "    <tr>\n",
       "      <th>3272</th>\n",
       "      <td>Bridport, England</td>\n",
       "      <td>1</td>\n",
       "    </tr>\n",
       "    <tr>\n",
       "      <th>12258</th>\n",
       "      <td>Maidavale West London W9 &amp; W2</td>\n",
       "      <td>1</td>\n",
       "    </tr>\n",
       "    <tr>\n",
       "      <th>12259</th>\n",
       "      <td>Maidenhead</td>\n",
       "      <td>1</td>\n",
       "    </tr>\n",
       "    <tr>\n",
       "      <th>12260</th>\n",
       "      <td>Maidenhead Berkshire</td>\n",
       "      <td>1</td>\n",
       "    </tr>\n",
       "    <tr>\n",
       "      <th>12036</th>\n",
       "      <td>Lucky In Ky</td>\n",
       "      <td>1</td>\n",
       "    </tr>\n",
       "  </tbody>\n",
       "</table>\n",
       "<p>24073 rows × 2 columns</p>\n",
       "</div>"
      ],
      "text/plain": [
       "                       user_location  count\n",
       "9314                           India   3658\n",
       "21275                  United States   2274\n",
       "14016               New Delhi, India   1648\n",
       "22989                      Worldwide   1587\n",
       "13474                  Mumbai, India   1301\n",
       "...                              ...    ...\n",
       "3272               Bridport, England      1\n",
       "12258  Maidavale West London W9 & W2      1\n",
       "12259                     Maidenhead      1\n",
       "12260           Maidenhead Berkshire      1\n",
       "12036                    Lucky In Ky      1\n",
       "\n",
       "[24073 rows x 2 columns]"
      ]
     },
     "execution_count": 500,
     "metadata": {},
     "output_type": "execute_result"
    }
   ],
   "source": []
  },
  {
   "cell_type": "code",
   "execution_count": null,
   "metadata": {},
   "outputs": [],
   "source": []
  }
 ],
 "metadata": {
  "kernelspec": {
   "display_name": "Python 3",
   "language": "python",
   "name": "python3"
  },
  "language_info": {
   "codemirror_mode": {
    "name": "ipython",
    "version": 3
   },
   "file_extension": ".py",
   "mimetype": "text/x-python",
   "name": "python",
   "nbconvert_exporter": "python",
   "pygments_lexer": "ipython3",
   "version": "3.8.5"
  }
 },
 "nbformat": 4,
 "nbformat_minor": 4
}

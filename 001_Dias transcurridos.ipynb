{
 "cells": [
  {
   "cell_type": "code",
   "execution_count": 242,
   "metadata": {},
   "outputs": [],
   "source": [
    "#Libraries import\n",
    "import csv\n",
    "import requests\n",
    "import pandas as pd\n",
    "from datetime import datetime"
   ]
  },
  {
   "cell_type": "code",
   "execution_count": 243,
   "metadata": {},
   "outputs": [],
   "source": [
    "# Carga Archivo\n",
    "df_covid = pd.read_csv('tmp/covid19_tweets.csv')"
   ]
  },
  {
   "cell_type": "code",
   "execution_count": 244,
   "metadata": {},
   "outputs": [],
   "source": [
    "#Funcion que resta fechas fecha  \n",
    "def days_between(d1, d2):\n",
    "    return abs(d2 - d1).days"
   ]
  },
  {
   "cell_type": "code",
   "execution_count": 245,
   "metadata": {},
   "outputs": [],
   "source": [
    "#Calcular los dias de la fecha mas antigua hasta ahora\n",
    "def days_since_first():\n",
    "    return abs(datetime.now()-df_covid_casted.user_created.min()).days"
   ]
  },
  {
   "cell_type": "code",
   "execution_count": 246,
   "metadata": {},
   "outputs": [],
   "source": [
    "#Limpieza y transformacion de datos\n",
    "\n",
    "#covertir las fechas de object  a date time\n",
    "casting_dict = {\n",
    "    'user_created':'datetime64[ns]',\n",
    "    'date':'datetime64[ns]'\n",
    "}"
   ]
  },
  {
   "cell_type": "code",
   "execution_count": 247,
   "metadata": {},
   "outputs": [],
   "source": [
    "#Creo el nuevo data frame con cating\n",
    "df_covid_casted = df_covid.astype(casting_dict)"
   ]
  },
  {
   "cell_type": "code",
   "execution_count": 248,
   "metadata": {},
   "outputs": [],
   "source": [
    "#filtrar valores mayores a 1990\n",
    "df_covid_filter=df_covid_casted[\"user_created\"] > \"1990-01-01 00:00:00\""
   ]
  },
  {
   "cell_type": "code",
   "execution_count": 249,
   "metadata": {},
   "outputs": [],
   "source": [
    "#filtro mi data frame casteado con el filtro antes generado\n",
    "df_covid_casted=df_covid_casted[df_covid_filter]"
   ]
  },
  {
   "cell_type": "code",
   "execution_count": 250,
   "metadata": {},
   "outputs": [],
   "source": [
    "#aplicamos la funcion de resta de fechas con la funcion oculta lambda\n",
    "df_covid_casted['Days_Dif']=df_covid_casted.apply(lambda x:days_between(x[\"date\"],x[\"user_created\"]),axis=1)"
   ]
  },
  {
   "cell_type": "code",
   "execution_count": 251,
   "metadata": {},
   "outputs": [],
   "source": [
    "#ordenamos por los mas altos\n",
    "df_covid_casted=df_covid_casted.sort_values(['Days_Dif'],ascending=[False])"
   ]
  },
  {
   "cell_type": "code",
   "execution_count": 252,
   "metadata": {
    "scrolled": true
   },
   "outputs": [
    {
     "name": "stdout",
     "output_type": "stream",
     "text": [
      "              user_created                date  Days_Dif\n",
      "131057 2006-07-17 01:21:51 2020-08-14 02:26:34      5142\n",
      "131488 2006-07-16 21:38:36 2020-08-14 02:05:33      5142\n",
      "131207 2006-07-17 01:21:51 2020-08-14 02:18:45      5142\n",
      "130948 2006-07-17 01:21:51 2020-08-14 02:31:38      5142\n",
      "47019  2006-07-16 06:53:48 2020-07-31 18:32:52      5129\n",
      "...                    ...                 ...       ...\n",
      "166060 2020-08-21 16:06:23 2020-08-22 00:45:43         0\n",
      "99354  2020-08-10 03:40:53 2020-08-10 16:02:17         0\n",
      "150178 2020-08-18 14:01:33 2020-08-18 17:37:12         0\n",
      "66145  2020-08-02 17:22:24 2020-08-02 17:25:04         0\n",
      "143492 2020-08-16 13:24:35 2020-08-17 06:21:33         0\n",
      "\n",
      "[166655 rows x 3 columns]\n"
     ]
    }
   ],
   "source": [
    "#imprimir fecha de creacion, ejecucion y la diferencia entre estas\n",
    "print(df_covid_casted.loc[:,[\"user_created\",\"date\",\"Days_Dif\"]])"
   ]
  },
  {
   "cell_type": "code",
   "execution_count": 253,
   "metadata": {},
   "outputs": [
    {
     "name": "stdout",
     "output_type": "stream",
     "text": [
      "Dias trasncurridos desdeel primer tweet: 5164\n"
     ]
    }
   ],
   "source": [
    "#Aplico la funcion para obtener la diferencia de dias entre hoy y el primer tweet\n",
    "days_since=days_since_first()\n",
    "print(f'Dias trasncurridos desdeel primer tweet: {days_since}')"
   ]
  },
  {
   "cell_type": "code",
   "execution_count": null,
   "metadata": {},
   "outputs": [],
   "source": []
  }
 ],
 "metadata": {
  "kernelspec": {
   "display_name": "Python 3",
   "language": "python",
   "name": "python3"
  },
  "language_info": {
   "codemirror_mode": {
    "name": "ipython",
    "version": 3
   },
   "file_extension": ".py",
   "mimetype": "text/x-python",
   "name": "python",
   "nbconvert_exporter": "python",
   "pygments_lexer": "ipython3",
   "version": "3.8.5"
  }
 },
 "nbformat": 4,
 "nbformat_minor": 4
}
